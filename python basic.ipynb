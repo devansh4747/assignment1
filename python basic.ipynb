{
 "cells": [
  {
   "cell_type": "code",
   "execution_count": 1,
   "id": "5e259934-e195-4508-af4a-98697423cd19",
   "metadata": {},
   "outputs": [
    {
     "name": "stdout",
     "output_type": "stream",
     "text": [
      "Let's get started\n"
     ]
    }
   ],
   "source": [
    "print(\"Let's get started\")"
   ]
  },
  {
   "cell_type": "code",
   "execution_count": 1,
   "id": "7858f9b6-829b-4754-92ec-3967cc3dc4bc",
   "metadata": {},
   "outputs": [],
   "source": [
    "dev = 'legend'"
   ]
  },
  {
   "cell_type": "code",
   "execution_count": 2,
   "id": "4214c31e-620f-4daf-8bd1-c1c66f55417f",
   "metadata": {},
   "outputs": [
    {
     "data": {
      "text/plain": [
       "str"
      ]
     },
     "execution_count": 2,
     "metadata": {},
     "output_type": "execute_result"
    }
   ],
   "source": [
    "type(dev)"
   ]
  },
  {
   "cell_type": "code",
   "execution_count": 4,
   "id": "feedf2a9-9f34-4da2-be94-59431c344080",
   "metadata": {},
   "outputs": [],
   "source": [
    "a = 5.65"
   ]
  },
  {
   "cell_type": "code",
   "execution_count": 5,
   "id": "892d0506-3e08-4dcb-97d2-7e59f85937a7",
   "metadata": {},
   "outputs": [
    {
     "data": {
      "text/plain": [
       "float"
      ]
     },
     "execution_count": 5,
     "metadata": {},
     "output_type": "execute_result"
    }
   ],
   "source": [
    "type(a)"
   ]
  },
  {
   "cell_type": "code",
   "execution_count": 7,
   "id": "6b8cb48a-7205-430b-a075-731a2dca51c6",
   "metadata": {},
   "outputs": [],
   "source": [
    "b=True"
   ]
  },
  {
   "cell_type": "code",
   "execution_count": 8,
   "id": "ba4f4e0d-1f86-4f9b-91a3-c6a3b0e74293",
   "metadata": {},
   "outputs": [
    {
     "data": {
      "text/plain": [
       "bool"
      ]
     },
     "execution_count": 8,
     "metadata": {},
     "output_type": "execute_result"
    }
   ],
   "source": [
    "type(b)"
   ]
  },
  {
   "cell_type": "code",
   "execution_count": 9,
   "id": "6a9f197c-f98d-4942-b4be-833e1983c230",
   "metadata": {},
   "outputs": [],
   "source": [
    "c = False"
   ]
  },
  {
   "cell_type": "code",
   "execution_count": 10,
   "id": "d10022b7-275d-47e0-87cb-121b3dbeb30e",
   "metadata": {},
   "outputs": [
    {
     "data": {
      "text/plain": [
       "1"
      ]
     },
     "execution_count": 10,
     "metadata": {},
     "output_type": "execute_result"
    }
   ],
   "source": [
    "b+c"
   ]
  },
  {
   "cell_type": "code",
   "execution_count": 11,
   "id": "6592f185-8851-4cef-aa32-e05182c74cc0",
   "metadata": {},
   "outputs": [
    {
     "data": {
      "text/plain": [
       "1"
      ]
     },
     "execution_count": 11,
     "metadata": {},
     "output_type": "execute_result"
    }
   ],
   "source": [
    "True * True"
   ]
  },
  {
   "cell_type": "code",
   "execution_count": 12,
   "id": "cd6ebd97-c794-42d9-8731-9d3b5ffbf3dc",
   "metadata": {},
   "outputs": [
    {
     "data": {
      "text/plain": [
       "0"
      ]
     },
     "execution_count": 12,
     "metadata": {},
     "output_type": "execute_result"
    }
   ],
   "source": [
    "True * False"
   ]
  },
  {
   "cell_type": "code",
   "execution_count": 14,
   "id": "0868ab26-f3d7-4bf9-83f5-9ce594424ae6",
   "metadata": {},
   "outputs": [],
   "source": [
    "d  = 4 + 3j"
   ]
  },
  {
   "cell_type": "code",
   "execution_count": 15,
   "id": "929c6c9f-a349-47a1-a28d-5300f25ccfd7",
   "metadata": {},
   "outputs": [
    {
     "data": {
      "text/plain": [
       "complex"
      ]
     },
     "execution_count": 15,
     "metadata": {},
     "output_type": "execute_result"
    }
   ],
   "source": [
    "type (d)"
   ]
  },
  {
   "cell_type": "code",
   "execution_count": 17,
   "id": "6ad4cf90-06bf-47a9-a21e-4ed0384446f2",
   "metadata": {},
   "outputs": [
    {
     "data": {
      "text/plain": [
       "4.0"
      ]
     },
     "execution_count": 17,
     "metadata": {},
     "output_type": "execute_result"
    }
   ],
   "source": [
    "d.real"
   ]
  },
  {
   "cell_type": "code",
   "execution_count": 18,
   "id": "dd26735d-938e-4f26-bdb3-73abbf5133f6",
   "metadata": {},
   "outputs": [],
   "source": [
    "e=5"
   ]
  },
  {
   "cell_type": "code",
   "execution_count": 19,
   "id": "b187288b-aace-4e95-983b-efe0486e9fc7",
   "metadata": {},
   "outputs": [
    {
     "data": {
      "text/plain": [
       "5"
      ]
     },
     "execution_count": 19,
     "metadata": {},
     "output_type": "execute_result"
    }
   ],
   "source": [
    "e"
   ]
  },
  {
   "cell_type": "code",
   "execution_count": 20,
   "id": "e81f8cdc-bbac-42b2-b466-beba581c8924",
   "metadata": {},
   "outputs": [],
   "source": [
    "e=6"
   ]
  },
  {
   "cell_type": "code",
   "execution_count": 21,
   "id": "b7536fcd-0cad-4a1c-9b26-7278035bfd7a",
   "metadata": {},
   "outputs": [
    {
     "data": {
      "text/plain": [
       "6"
      ]
     },
     "execution_count": 21,
     "metadata": {},
     "output_type": "execute_result"
    }
   ],
   "source": [
    "e"
   ]
  },
  {
   "cell_type": "code",
   "execution_count": 2,
   "id": "b23d5061-33df-4bb5-a0ae-ff7ab6cd8cd9",
   "metadata": {},
   "outputs": [],
   "source": [
    "a = \"devansh\""
   ]
  },
  {
   "cell_type": "code",
   "execution_count": 3,
   "id": "6c03850c-3e7b-4cef-b17a-003b64543de3",
   "metadata": {},
   "outputs": [
    {
     "data": {
      "text/plain": [
       "'d'"
      ]
     },
     "execution_count": 3,
     "metadata": {},
     "output_type": "execute_result"
    }
   ],
   "source": [
    "a[0]"
   ]
  },
  {
   "cell_type": "code",
   "execution_count": 4,
   "id": "ca5f8d28-8930-4bbc-8597-7dd133f32721",
   "metadata": {},
   "outputs": [],
   "source": [
    "a1 = \" devansh \""
   ]
  },
  {
   "cell_type": "code",
   "execution_count": 6,
   "id": "bb9ccd1d-12e8-4b78-8310-70ea16840b0e",
   "metadata": {},
   "outputs": [
    {
     "data": {
      "text/plain": [
       "' '"
      ]
     },
     "execution_count": 6,
     "metadata": {},
     "output_type": "execute_result"
    }
   ],
   "source": [
    "a1[0]"
   ]
  },
  {
   "cell_type": "code",
   "execution_count": 7,
   "id": "32ab29e2-8586-4fe4-ad96-1c88e79265ae",
   "metadata": {},
   "outputs": [
    {
     "data": {
      "text/plain": [
       "'d'"
      ]
     },
     "execution_count": 7,
     "metadata": {},
     "output_type": "execute_result"
    }
   ],
   "source": [
    "a1[1]"
   ]
  },
  {
   "cell_type": "code",
   "execution_count": 8,
   "id": "e059a2bc-b2c9-4abe-a922-767328272847",
   "metadata": {},
   "outputs": [
    {
     "data": {
      "text/plain": [
       "'h'"
      ]
     },
     "execution_count": 8,
     "metadata": {},
     "output_type": "execute_result"
    }
   ],
   "source": [
    "a[-1]"
   ]
  },
  {
   "cell_type": "code",
   "execution_count": 10,
   "id": "a58537e5-568a-4878-82d2-968f03cc3996",
   "metadata": {},
   "outputs": [
    {
     "data": {
      "text/plain": [
       "'dev'"
      ]
     },
     "execution_count": 10,
     "metadata": {},
     "output_type": "execute_result"
    }
   ],
   "source": [
    "a[0:3]"
   ]
  },
  {
   "cell_type": "code",
   "execution_count": 11,
   "id": "8e394cc7-996b-48c4-85db-f7733d188516",
   "metadata": {},
   "outputs": [
    {
     "data": {
      "text/plain": [
       "'dvnh'"
      ]
     },
     "execution_count": 11,
     "metadata": {},
     "output_type": "execute_result"
    }
   ],
   "source": [
    "a[0:7:2]"
   ]
  },
  {
   "cell_type": "code",
   "execution_count": 12,
   "id": "f7457db4-d18a-4d5f-94d6-3122452e0943",
   "metadata": {},
   "outputs": [
    {
     "data": {
      "text/plain": [
       "'dvnh'"
      ]
     },
     "execution_count": 12,
     "metadata": {},
     "output_type": "execute_result"
    }
   ],
   "source": [
    "a[::2]"
   ]
  },
  {
   "cell_type": "code",
   "execution_count": 13,
   "id": "3023a653-f33c-47a9-90ed-3926dc272e2e",
   "metadata": {},
   "outputs": [
    {
     "data": {
      "text/plain": [
       "'eas'"
      ]
     },
     "execution_count": 13,
     "metadata": {},
     "output_type": "execute_result"
    }
   ],
   "source": [
    "a[1::2]"
   ]
  },
  {
   "cell_type": "code",
   "execution_count": 14,
   "id": "e9196693-04e4-4e16-a2ee-6b0425bd9bc6",
   "metadata": {},
   "outputs": [
    {
     "data": {
      "text/plain": [
       "'hsnaved'"
      ]
     },
     "execution_count": 14,
     "metadata": {},
     "output_type": "execute_result"
    }
   ],
   "source": [
    "a[::-1]"
   ]
  },
  {
   "cell_type": "code",
   "execution_count": 15,
   "id": "368a7aa0-7b13-4209-82f5-9ae3f0107265",
   "metadata": {},
   "outputs": [
    {
     "data": {
      "text/plain": [
       "''"
      ]
     },
     "execution_count": 15,
     "metadata": {},
     "output_type": "execute_result"
    }
   ],
   "source": [
    "a[1:7:-1]"
   ]
  },
  {
   "cell_type": "code",
   "execution_count": 16,
   "id": "91a99dca-850f-41ce-8c3f-0b1f38cf860f",
   "metadata": {},
   "outputs": [
    {
     "data": {
      "text/plain": [
       "'hsnave'"
      ]
     },
     "execution_count": 16,
     "metadata": {},
     "output_type": "execute_result"
    }
   ],
   "source": [
    "a[7:0:-1]"
   ]
  },
  {
   "cell_type": "code",
   "execution_count": 17,
   "id": "d9affe78-aa18-4808-a32d-48f5f41a9028",
   "metadata": {},
   "outputs": [
    {
     "data": {
      "text/plain": [
       "'hsnave'"
      ]
     },
     "execution_count": 17,
     "metadata": {},
     "output_type": "execute_result"
    }
   ],
   "source": [
    "a[8:0:-1]"
   ]
  },
  {
   "cell_type": "code",
   "execution_count": 21,
   "id": "da700850-79b6-4c48-ba24-c692f85e0170",
   "metadata": {},
   "outputs": [
    {
     "data": {
      "text/plain": [
       "''"
      ]
     },
     "execution_count": 21,
     "metadata": {},
     "output_type": "execute_result"
    }
   ],
   "source": [
    "a[-1:-7:1]"
   ]
  },
  {
   "cell_type": "code",
   "execution_count": 20,
   "id": "b3a57652-bead-4a0a-8db5-d9870dcc2a87",
   "metadata": {},
   "outputs": [
    {
     "data": {
      "text/plain": [
       "'hsnave'"
      ]
     },
     "execution_count": 20,
     "metadata": {},
     "output_type": "execute_result"
    }
   ],
   "source": [
    "a[-1:-7:-1]"
   ]
  },
  {
   "cell_type": "code",
   "execution_count": 22,
   "id": "6f6865ff-1f3f-4d14-aeaf-7e188240040b",
   "metadata": {},
   "outputs": [
    {
     "data": {
      "text/plain": [
       "'hsnaved'"
      ]
     },
     "execution_count": 22,
     "metadata": {},
     "output_type": "execute_result"
    }
   ],
   "source": [
    "a[-1::-1]"
   ]
  },
  {
   "cell_type": "code",
   "execution_count": 24,
   "id": "1e6b2cca-ccb7-4b17-bdae-a851a7add184",
   "metadata": {},
   "outputs": [
    {
     "data": {
      "text/plain": [
       "'evansh'"
      ]
     },
     "execution_count": 24,
     "metadata": {},
     "output_type": "execute_result"
    }
   ],
   "source": [
    "a[1:100:1]"
   ]
  },
  {
   "cell_type": "code",
   "execution_count": 26,
   "id": "4dcefa21-d2da-4087-8f23-50bce8cd8a80",
   "metadata": {},
   "outputs": [
    {
     "data": {
      "text/plain": [
       "''"
      ]
     },
     "execution_count": 26,
     "metadata": {},
     "output_type": "execute_result"
    }
   ],
   "source": [
    "a[-90:0:1]"
   ]
  },
  {
   "cell_type": "code",
   "execution_count": 27,
   "id": "49ca5c34-750d-4a8f-85b8-7beb91a874cd",
   "metadata": {},
   "outputs": [],
   "source": [
    "A = \"this is my first project\""
   ]
  },
  {
   "cell_type": "code",
   "execution_count": 28,
   "id": "364929ad-0c74-4319-94b1-cef560bd680e",
   "metadata": {},
   "outputs": [
    {
     "data": {
      "text/plain": [
       "24"
      ]
     },
     "execution_count": 28,
     "metadata": {},
     "output_type": "execute_result"
    }
   ],
   "source": [
    "len(A)"
   ]
  },
  {
   "cell_type": "code",
   "execution_count": 29,
   "id": "0347c68b-4f51-421f-b479-30109fa2e16e",
   "metadata": {},
   "outputs": [
    {
     "data": {
      "text/plain": [
       "3"
      ]
     },
     "execution_count": 29,
     "metadata": {},
     "output_type": "execute_result"
    }
   ],
   "source": [
    "A.find(\"s\")"
   ]
  },
  {
   "cell_type": "code",
   "execution_count": 31,
   "id": "370ab2e8-2f61-48a5-b1d9-bf944a1d3761",
   "metadata": {},
   "outputs": [
    {
     "data": {
      "text/plain": [
       "17"
      ]
     },
     "execution_count": 31,
     "metadata": {},
     "output_type": "execute_result"
    }
   ],
   "source": [
    "A.find('p')"
   ]
  },
  {
   "cell_type": "code",
   "execution_count": 32,
   "id": "8d2b5676-bc9a-4da4-89d4-db5cba7ca2e6",
   "metadata": {},
   "outputs": [
    {
     "data": {
      "text/plain": [
       "2"
      ]
     },
     "execution_count": 32,
     "metadata": {},
     "output_type": "execute_result"
    }
   ],
   "source": [
    "A.find(\"is\")"
   ]
  },
  {
   "cell_type": "code",
   "execution_count": 34,
   "id": "918decd1-86b3-4437-a050-07b8ff26736d",
   "metadata": {},
   "outputs": [
    {
     "data": {
      "text/plain": [
       "-1"
      ]
     },
     "execution_count": 34,
     "metadata": {},
     "output_type": "execute_result"
    }
   ],
   "source": [
    "A.find(\"iS\")"
   ]
  },
  {
   "cell_type": "code",
   "execution_count": 35,
   "id": "ff23723e-6ce5-4e4d-b4b3-80ab36141a81",
   "metadata": {},
   "outputs": [
    {
     "data": {
      "text/plain": [
       "3"
      ]
     },
     "execution_count": 35,
     "metadata": {},
     "output_type": "execute_result"
    }
   ],
   "source": [
    "A.count(\"t\")"
   ]
  },
  {
   "cell_type": "code",
   "execution_count": 39,
   "id": "de5c1c46-b4c5-447c-920e-6f1ca3d84be2",
   "metadata": {},
   "outputs": [
    {
     "data": {
      "text/plain": [
       "'THIS IS MY FIRST PROJECT'"
      ]
     },
     "execution_count": 39,
     "metadata": {},
     "output_type": "execute_result"
    }
   ],
   "source": [
    "A.upper()"
   ]
  },
  {
   "cell_type": "code",
   "execution_count": 40,
   "id": "8b1f9cc6-3466-446d-aab0-58a5cb5ce335",
   "metadata": {},
   "outputs": [
    {
     "data": {
      "text/plain": [
       "'This Is My First Project'"
      ]
     },
     "execution_count": 40,
     "metadata": {},
     "output_type": "execute_result"
    }
   ],
   "source": [
    "A.title()"
   ]
  },
  {
   "cell_type": "code",
   "execution_count": 41,
   "id": "0e59eac0-c44c-4e5e-ab95-3f8f4475c326",
   "metadata": {},
   "outputs": [
    {
     "data": {
      "text/plain": [
       "'This is my first project'"
      ]
     },
     "execution_count": 41,
     "metadata": {},
     "output_type": "execute_result"
    }
   ],
   "source": [
    "A.capitalize()"
   ]
  },
  {
   "cell_type": "code",
   "execution_count": 42,
   "id": "3fe77fe9-9647-4cdc-934c-fa43b3e346ed",
   "metadata": {},
   "outputs": [],
   "source": [
    "B=\" the book\""
   ]
  },
  {
   "cell_type": "code",
   "execution_count": 43,
   "id": "58404762-564b-417a-8cd2-75adde682ea3",
   "metadata": {},
   "outputs": [
    {
     "data": {
      "text/plain": [
       "' The Book'"
      ]
     },
     "execution_count": 43,
     "metadata": {},
     "output_type": "execute_result"
    }
   ],
   "source": [
    "B.title()"
   ]
  },
  {
   "cell_type": "code",
   "execution_count": 44,
   "id": "c4379020-8f1a-46e6-b78f-532cb3108cec",
   "metadata": {},
   "outputs": [
    {
     "data": {
      "text/plain": [
       "' the book'"
      ]
     },
     "execution_count": 44,
     "metadata": {},
     "output_type": "execute_result"
    }
   ],
   "source": [
    "B.capitalize()"
   ]
  },
  {
   "cell_type": "code",
   "execution_count": 46,
   "id": "e274d1e6-0132-4488-8e4b-6b0b131ba04b",
   "metadata": {},
   "outputs": [
    {
     "data": {
      "text/plain": [
       "' the book is big'"
      ]
     },
     "execution_count": 46,
     "metadata": {},
     "output_type": "execute_result"
    }
   ],
   "source": [
    "B + \" is big\""
   ]
  },
  {
   "cell_type": "code",
   "execution_count": 47,
   "id": "32b81d42-e15f-43c3-b52d-054b7a605733",
   "metadata": {},
   "outputs": [
    {
     "data": {
      "text/plain": [
       "' the book the book'"
      ]
     },
     "execution_count": 47,
     "metadata": {},
     "output_type": "execute_result"
    }
   ],
   "source": [
    "B * 2"
   ]
  },
  {
   "cell_type": "code",
   "execution_count": 48,
   "id": "5eda7cb5-ffe7-483a-8245-dc8df7fe01b9",
   "metadata": {},
   "outputs": [
    {
     "data": {
      "text/plain": [
       "\"don't do anything\""
      ]
     },
     "execution_count": 48,
     "metadata": {},
     "output_type": "execute_result"
    }
   ],
   "source": [
    "\"don't do anything\""
   ]
  },
  {
   "cell_type": "code",
   "execution_count": 49,
   "id": "33d224ab-6127-4fae-8cfe-9079d9fae65c",
   "metadata": {},
   "outputs": [
    {
     "data": {
      "text/plain": [
       "'don\"t do it'"
      ]
     },
     "execution_count": 49,
     "metadata": {},
     "output_type": "execute_result"
    }
   ],
   "source": [
    "'don\"t do it'"
   ]
  },
  {
   "cell_type": "code",
   "execution_count": 50,
   "id": "ea34d693-1fd6-4d8b-9b92-f0c8edbc063c",
   "metadata": {},
   "outputs": [],
   "source": [
    "## I am legend \n",
    "we =10"
   ]
  },
  {
   "cell_type": "code",
   "execution_count": 51,
   "id": "8f1578d8-994a-4cf1-b5ac-adda8a0d1b25",
   "metadata": {},
   "outputs": [
    {
     "data": {
      "text/plain": [
       "10"
      ]
     },
     "execution_count": 51,
     "metadata": {},
     "output_type": "execute_result"
    }
   ],
   "source": [
    "we"
   ]
  },
  {
   "cell_type": "code",
   "execution_count": 52,
   "id": "a47143e3-6ff0-4a7d-a6f1-e0d1785af6bc",
   "metadata": {},
   "outputs": [],
   "source": [
    "# I am still legend"
   ]
  },
  {
   "cell_type": "code",
   "execution_count": 53,
   "id": "d0f8247e-e085-4df1-aa79-4c31fd4130c3",
   "metadata": {},
   "outputs": [
    {
     "data": {
      "text/plain": [
       "' I am legend \\nand I HAVE SUPER POWERS'"
      ]
     },
     "execution_count": 53,
     "metadata": {},
     "output_type": "execute_result"
    }
   ],
   "source": [
    "\"\"\" I am legend \n",
    "and I HAVE SUPER POWERS\"\"\""
   ]
  },
  {
   "cell_type": "code",
   "execution_count": 54,
   "id": "cdd5a68c-516d-4bd5-9e2a-791f8ce7780b",
   "metadata": {},
   "outputs": [
    {
     "data": {
      "text/plain": [
       "' I AM GREAT \\nAS ALWAYS'"
      ]
     },
     "execution_count": 54,
     "metadata": {},
     "output_type": "execute_result"
    }
   ],
   "source": [
    "''' I AM GREAT \n",
    "AS ALWAYS'''"
   ]
  },
  {
   "cell_type": "code",
   "execution_count": 55,
   "id": "208f2bf1-9cd2-4329-9707-af50d97d2cd8",
   "metadata": {},
   "outputs": [],
   "source": [
    "# I AM LEGEND \n",
    "# HUMANS ARE NOOB \n",
    "# I AM SPEED \n",
    "# HUMANS ARE LAZY"
   ]
  },
  {
   "cell_type": "code",
   "execution_count": 57,
   "id": "f7673034-8229-44b4-b401-eac9548e519b",
   "metadata": {},
   "outputs": [],
   "source": [
    "V = \"\"\" hi hi h hi ih ih ih \"\"\""
   ]
  },
  {
   "cell_type": "code",
   "execution_count": 58,
   "id": "bde396e3-ff5b-4c56-86c5-045700bf8570",
   "metadata": {},
   "outputs": [
    {
     "data": {
      "text/plain": [
       "' hi hi h hi ih ih ih '"
      ]
     },
     "execution_count": 58,
     "metadata": {},
     "output_type": "execute_result"
    }
   ],
   "source": [
    "V"
   ]
  },
  {
   "cell_type": "code",
   "execution_count": 3,
   "id": "ca82f238-d14c-4977-85e9-eddf2bd8c4e9",
   "metadata": {},
   "outputs": [],
   "source": [
    "L = [7,22,4,5,3+4j,\"wow\",True,51.56]"
   ]
  },
  {
   "cell_type": "code",
   "execution_count": 4,
   "id": "80a20ec9-da51-4ffc-9382-130750cf3bec",
   "metadata": {},
   "outputs": [
    {
     "data": {
      "text/plain": [
       "list"
      ]
     },
     "execution_count": 4,
     "metadata": {},
     "output_type": "execute_result"
    }
   ],
   "source": [
    "type(L)"
   ]
  },
  {
   "cell_type": "code",
   "execution_count": 6,
   "id": "7f85dfe2-b4d3-4b8f-a70a-0ead34f26e99",
   "metadata": {},
   "outputs": [
    {
     "data": {
      "text/plain": [
       "22"
      ]
     },
     "execution_count": 6,
     "metadata": {},
     "output_type": "execute_result"
    }
   ],
   "source": [
    "L[1]"
   ]
  },
  {
   "cell_type": "code",
   "execution_count": 7,
   "id": "a466e85b-1d4d-419e-8332-9f8676c3dbbd",
   "metadata": {},
   "outputs": [
    {
     "data": {
      "text/plain": [
       "True"
      ]
     },
     "execution_count": 7,
     "metadata": {},
     "output_type": "execute_result"
    }
   ],
   "source": [
    "L[-2]"
   ]
  },
  {
   "cell_type": "code",
   "execution_count": 9,
   "id": "4b03659b-be47-4b46-8182-ad5a74d4d7a9",
   "metadata": {},
   "outputs": [
    {
     "data": {
      "text/plain": [
       "1"
      ]
     },
     "execution_count": 9,
     "metadata": {},
     "output_type": "execute_result"
    }
   ],
   "source": [
    "L.count(22)"
   ]
  },
  {
   "cell_type": "code",
   "execution_count": 12,
   "id": "066a3b72-c003-40a3-bc33-14b39d78c38c",
   "metadata": {},
   "outputs": [
    {
     "data": {
      "text/plain": [
       "[7, 22, 4, 5]"
      ]
     },
     "execution_count": 12,
     "metadata": {},
     "output_type": "execute_result"
    }
   ],
   "source": [
    "L[0:4]"
   ]
  },
  {
   "cell_type": "code",
   "execution_count": 14,
   "id": "5abc5b0c-2578-4b16-b131-d12cf254c56f",
   "metadata": {},
   "outputs": [
    {
     "data": {
      "text/plain": [
       "8"
      ]
     },
     "execution_count": 14,
     "metadata": {},
     "output_type": "execute_result"
    }
   ],
   "source": [
    "len(L)"
   ]
  },
  {
   "cell_type": "code",
   "execution_count": 15,
   "id": "9000bdd2-2e83-438e-afb8-4fb5ddfb7499",
   "metadata": {},
   "outputs": [
    {
     "data": {
      "text/plain": [
       "[51.56, True, 'wow', (3+4j), 5, 4, 22, 7]"
      ]
     },
     "execution_count": 15,
     "metadata": {},
     "output_type": "execute_result"
    }
   ],
   "source": [
    "L[::-1]"
   ]
  },
  {
   "cell_type": "code",
   "execution_count": 16,
   "id": "62c17390-3359-41cb-a3aa-96a21f1763ad",
   "metadata": {},
   "outputs": [],
   "source": [
    "s = \"legend\""
   ]
  },
  {
   "cell_type": "code",
   "execution_count": 17,
   "id": "b61779bf-e4d9-4695-872c-e0df168cb031",
   "metadata": {},
   "outputs": [
    {
     "data": {
      "text/plain": [
       "['l', 'e', 'g', 'e', 'n', 'd']"
      ]
     },
     "execution_count": 17,
     "metadata": {},
     "output_type": "execute_result"
    }
   ],
   "source": [
    "list(s)"
   ]
  },
  {
   "cell_type": "code",
   "execution_count": 18,
   "id": "7f2a1524-dd97-4c5e-bb68-57432c78c0c0",
   "metadata": {},
   "outputs": [
    {
     "data": {
      "text/plain": [
       "['l', 'e', 'g', 'e', 'n', 'd', 7, 22, 4, 5, (3+4j), 'wow', True, 51.56]"
      ]
     },
     "execution_count": 18,
     "metadata": {},
     "output_type": "execute_result"
    }
   ],
   "source": [
    "list(s) + L"
   ]
  },
  {
   "cell_type": "code",
   "execution_count": 19,
   "id": "37341781-0809-464f-b894-2caa0cc1bf98",
   "metadata": {},
   "outputs": [
    {
     "data": {
      "text/plain": [
       "complex"
      ]
     },
     "execution_count": 19,
     "metadata": {},
     "output_type": "execute_result"
    }
   ],
   "source": [
    "type(L[4])"
   ]
  },
  {
   "cell_type": "code",
   "execution_count": 20,
   "id": "de7d11a3-b41d-4bc7-bc40-37bb528e2841",
   "metadata": {},
   "outputs": [
    {
     "data": {
      "text/plain": [
       "'wow'"
      ]
     },
     "execution_count": 20,
     "metadata": {},
     "output_type": "execute_result"
    }
   ],
   "source": [
    "L[5]"
   ]
  },
  {
   "cell_type": "code",
   "execution_count": 22,
   "id": "dc1e3b32-461c-4f45-a571-41cc34ce58bd",
   "metadata": {},
   "outputs": [
    {
     "data": {
      "text/plain": [
       "'wo'"
      ]
     },
     "execution_count": 22,
     "metadata": {},
     "output_type": "execute_result"
    }
   ],
   "source": [
    "L[5][0:2]"
   ]
  },
  {
   "cell_type": "code",
   "execution_count": 23,
   "id": "2e1f1214-6aa7-4e0b-b79e-d7388bc8c0d4",
   "metadata": {},
   "outputs": [
    {
     "data": {
      "text/plain": [
       "True"
      ]
     },
     "execution_count": 23,
     "metadata": {},
     "output_type": "execute_result"
    }
   ],
   "source": [
    "L[6]"
   ]
  },
  {
   "cell_type": "code",
   "execution_count": 25,
   "id": "81103ea6-e012-4586-91fc-d85600fe9990",
   "metadata": {},
   "outputs": [
    {
     "data": {
      "text/plain": [
       "'Tr'"
      ]
     },
     "execution_count": 25,
     "metadata": {},
     "output_type": "execute_result"
    }
   ],
   "source": [
    "str(L[6])[0:2]"
   ]
  },
  {
   "cell_type": "code",
   "execution_count": 26,
   "id": "f75dc308-582f-49f1-83b9-04163624e2db",
   "metadata": {},
   "outputs": [
    {
     "data": {
      "text/plain": [
       "[7, 22, 4, 5, (3+4j), 'wow', True, 51.56]"
      ]
     },
     "execution_count": 26,
     "metadata": {},
     "output_type": "execute_result"
    }
   ],
   "source": [
    "L"
   ]
  },
  {
   "cell_type": "code",
   "execution_count": 27,
   "id": "bbe434a3-4651-4c8a-af2c-93a2a8385d10",
   "metadata": {},
   "outputs": [],
   "source": [
    "L1 = [1,2,3]"
   ]
  },
  {
   "cell_type": "code",
   "execution_count": 30,
   "id": "52e91469-2b37-4451-bbcd-81bd38c5e435",
   "metadata": {},
   "outputs": [
    {
     "data": {
      "text/plain": [
       "[1, 2, 3, 1, 2, 3]"
      ]
     },
     "execution_count": 30,
     "metadata": {},
     "output_type": "execute_result"
    }
   ],
   "source": [
    "L+L1"
   ]
  },
  {
   "cell_type": "code",
   "execution_count": 31,
   "id": "89dfb448-d134-4547-a5a8-0379925beacc",
   "metadata": {},
   "outputs": [
    {
     "data": {
      "text/plain": [
       "[1, 2, 3]"
      ]
     },
     "execution_count": 31,
     "metadata": {},
     "output_type": "execute_result"
    }
   ],
   "source": [
    "L"
   ]
  },
  {
   "cell_type": "code",
   "execution_count": 32,
   "id": "4d3cffba-0bfa-41ac-8fff-3e250afdc96e",
   "metadata": {},
   "outputs": [
    {
     "data": {
      "text/plain": [
       "[1, 2, 3, 1, 2, 3, 1, 2, 3]"
      ]
     },
     "execution_count": 32,
     "metadata": {},
     "output_type": "execute_result"
    }
   ],
   "source": [
    "L1 * 3"
   ]
  },
  {
   "cell_type": "code",
   "execution_count": 33,
   "id": "c9f1d010-980a-4f21-899d-0e6e2049869c",
   "metadata": {},
   "outputs": [
    {
     "data": {
      "text/plain": [
       "6"
      ]
     },
     "execution_count": 33,
     "metadata": {},
     "output_type": "execute_result"
    }
   ],
   "source": [
    "len(L+L1)"
   ]
  },
  {
   "cell_type": "code",
   "execution_count": 34,
   "id": "b395e81b-da2d-42dc-a944-90f628785c4a",
   "metadata": {},
   "outputs": [],
   "source": [
    "L.append(4)"
   ]
  },
  {
   "cell_type": "code",
   "execution_count": 35,
   "id": "1d900c32-9dd0-47c3-8b54-006b8e15e8ee",
   "metadata": {},
   "outputs": [
    {
     "data": {
      "text/plain": [
       "[1, 2, 3, 4]"
      ]
     },
     "execution_count": 35,
     "metadata": {},
     "output_type": "execute_result"
    }
   ],
   "source": [
    "L"
   ]
  },
  {
   "cell_type": "code",
   "execution_count": 38,
   "id": "06f8bc5a-775d-466d-8462-976ca0f3ed64",
   "metadata": {},
   "outputs": [],
   "source": [
    "L.append(5)"
   ]
  },
  {
   "cell_type": "code",
   "execution_count": 39,
   "id": "ee08c6d7-497c-4113-809f-4969c6f27e4b",
   "metadata": {},
   "outputs": [],
   "source": [
    "L.append(s)"
   ]
  },
  {
   "cell_type": "code",
   "execution_count": 40,
   "id": "cdfaad13-b654-4ce4-b08f-6df8ae1d167c",
   "metadata": {},
   "outputs": [
    {
     "data": {
      "text/plain": [
       "[1, 2, 3, 4, 5, 'legend']"
      ]
     },
     "execution_count": 40,
     "metadata": {},
     "output_type": "execute_result"
    }
   ],
   "source": [
    "L"
   ]
  },
  {
   "cell_type": "code",
   "execution_count": 41,
   "id": "7ff23768-858e-4ecd-9af3-5e0609473dae",
   "metadata": {},
   "outputs": [],
   "source": [
    "L.append(L1)"
   ]
  },
  {
   "cell_type": "code",
   "execution_count": 42,
   "id": "70f93e05-64fc-45e3-b86c-0ed7723153d4",
   "metadata": {},
   "outputs": [
    {
     "data": {
      "text/plain": [
       "[1, 2, 3, 4, 5, 'legend', [...]]"
      ]
     },
     "execution_count": 42,
     "metadata": {},
     "output_type": "execute_result"
    }
   ],
   "source": [
    "L"
   ]
  },
  {
   "cell_type": "code",
   "execution_count": 43,
   "id": "208e8a47-887a-4936-a803-043c23cc20cd",
   "metadata": {},
   "outputs": [
    {
     "data": {
      "text/plain": [
       "[1, 2, 3, 4, 5, 'legend', [...]]"
      ]
     },
     "execution_count": 43,
     "metadata": {},
     "output_type": "execute_result"
    }
   ],
   "source": [
    "L1"
   ]
  },
  {
   "cell_type": "code",
   "execution_count": 44,
   "id": "bb69e4c9-a85d-4ae6-8b7f-5d3c6497532e",
   "metadata": {},
   "outputs": [
    {
     "data": {
      "text/plain": [
       "[1, 2, 3, 4, 5, 'legend', [...]]"
      ]
     },
     "execution_count": 44,
     "metadata": {},
     "output_type": "execute_result"
    }
   ],
   "source": [
    "L"
   ]
  },
  {
   "cell_type": "code",
   "execution_count": 45,
   "id": "03457759-4b9f-4819-a873-a90111891288",
   "metadata": {},
   "outputs": [],
   "source": [
    "L2= [True , 3+9j]"
   ]
  },
  {
   "cell_type": "code",
   "execution_count": 46,
   "id": "aef9063f-7c7e-42f9-a4da-78500680bc34",
   "metadata": {},
   "outputs": [],
   "source": [
    "L.append(L2)"
   ]
  },
  {
   "cell_type": "code",
   "execution_count": 47,
   "id": "ec3a05b4-8b24-497f-846a-e21d27cc22cb",
   "metadata": {},
   "outputs": [
    {
     "data": {
      "text/plain": [
       "[1, 2, 3, 4, 5, 'legend', [...], [True, (3+9j)]]"
      ]
     },
     "execution_count": 47,
     "metadata": {},
     "output_type": "execute_result"
    }
   ],
   "source": [
    "L"
   ]
  },
  {
   "cell_type": "code",
   "execution_count": 48,
   "id": "29debc55-ff30-4d05-aaee-e32ab7532386",
   "metadata": {},
   "outputs": [
    {
     "data": {
      "text/plain": [
       "True"
      ]
     },
     "execution_count": 48,
     "metadata": {},
     "output_type": "execute_result"
    }
   ],
   "source": [
    "L[-1][0]"
   ]
  },
  {
   "cell_type": "code",
   "execution_count": 67,
   "id": "2373be6d-11c7-4b93-89e7-0c6f1505b28e",
   "metadata": {},
   "outputs": [],
   "source": [
    "##list can be extended to the list but the added list will be break down into pieces of data\n",
    "L.extend(\"god\")"
   ]
  },
  {
   "cell_type": "code",
   "execution_count": 50,
   "id": "1a615ab6-0664-4307-a190-42cad880a849",
   "metadata": {},
   "outputs": [
    {
     "data": {
      "text/plain": [
       "[1, 2, 3, 4, 5, 'legend', [...], [True, (3+9j)], 'g', 'o', 'd']"
      ]
     },
     "execution_count": 50,
     "metadata": {},
     "output_type": "execute_result"
    }
   ],
   "source": [
    "L"
   ]
  },
  {
   "cell_type": "code",
   "execution_count": 51,
   "id": "34fff2d2-ee36-4a83-998a-5339860c6693",
   "metadata": {},
   "outputs": [],
   "source": [
    "L.extend([6,7,8])"
   ]
  },
  {
   "cell_type": "code",
   "execution_count": 52,
   "id": "8a1be2e5-6ca0-4a35-a377-9f4ab2a16d89",
   "metadata": {},
   "outputs": [
    {
     "data": {
      "text/plain": [
       "[1, 2, 3, 4, 5, 'legend', [...], [True, (3+9j)], 'g', 'o', 'd', 6, 7, 8]"
      ]
     },
     "execution_count": 52,
     "metadata": {},
     "output_type": "execute_result"
    }
   ],
   "source": [
    "L"
   ]
  },
  {
   "cell_type": "code",
   "execution_count": 53,
   "id": "22f15754-19d6-454f-9862-57c3385a354c",
   "metadata": {},
   "outputs": [
    {
     "data": {
      "text/plain": [
       "[True, (3+9j)]"
      ]
     },
     "execution_count": 53,
     "metadata": {},
     "output_type": "execute_result"
    }
   ],
   "source": [
    "L2"
   ]
  },
  {
   "cell_type": "code",
   "execution_count": 54,
   "id": "1fa9430e-0455-47a2-b41e-ce91b948c4bf",
   "metadata": {},
   "outputs": [],
   "source": [
    "L2.insert(0,\"oh god\")"
   ]
  },
  {
   "cell_type": "code",
   "execution_count": 55,
   "id": "4838703f-8f01-415d-8257-6371c6bd727f",
   "metadata": {},
   "outputs": [
    {
     "data": {
      "text/plain": [
       "['oh god', True, (3+9j)]"
      ]
     },
     "execution_count": 55,
     "metadata": {},
     "output_type": "execute_result"
    }
   ],
   "source": [
    "L2"
   ]
  },
  {
   "cell_type": "code",
   "execution_count": 56,
   "id": "04e2943b-4f47-4db3-bbd0-cbbfc8c32aee",
   "metadata": {},
   "outputs": [],
   "source": [
    "L2.insert(1 , [2,5,6,4])"
   ]
  },
  {
   "cell_type": "code",
   "execution_count": 57,
   "id": "89493827-b8d4-477b-a50e-fdb63b1956c1",
   "metadata": {},
   "outputs": [
    {
     "data": {
      "text/plain": [
       "['oh god', [2, 5, 6, 4], True, (3+9j)]"
      ]
     },
     "execution_count": 57,
     "metadata": {},
     "output_type": "execute_result"
    }
   ],
   "source": [
    "L2"
   ]
  },
  {
   "cell_type": "code",
   "execution_count": 59,
   "id": "695ef2b3-27e2-4e10-96a3-625011c2ae86",
   "metadata": {},
   "outputs": [],
   "source": [
    "L2.insert(-1, \"foo\")"
   ]
  },
  {
   "cell_type": "code",
   "execution_count": 60,
   "id": "70bae47d-2931-4791-a8cf-173275e57890",
   "metadata": {},
   "outputs": [
    {
     "data": {
      "text/plain": [
       "['oh god', [2, 5, 6, 4], True, 'foo', (3+9j)]"
      ]
     },
     "execution_count": 60,
     "metadata": {},
     "output_type": "execute_result"
    }
   ],
   "source": [
    "L2"
   ]
  },
  {
   "cell_type": "code",
   "execution_count": 61,
   "id": "c1222b1c-ee1d-449d-bfb8-99ca65829e89",
   "metadata": {},
   "outputs": [
    {
     "data": {
      "text/plain": [
       "(3+9j)"
      ]
     },
     "execution_count": 61,
     "metadata": {},
     "output_type": "execute_result"
    }
   ],
   "source": [
    "L2[-1]"
   ]
  },
  {
   "cell_type": "code",
   "execution_count": 62,
   "id": "75f24f2d-22e6-43b6-bf14-39a283d8a063",
   "metadata": {},
   "outputs": [
    {
     "data": {
      "text/plain": [
       "(3+9j)"
      ]
     },
     "execution_count": 62,
     "metadata": {},
     "output_type": "execute_result"
    }
   ],
   "source": [
    "L2.pop()"
   ]
  },
  {
   "cell_type": "code",
   "execution_count": 63,
   "id": "bf161a98-c234-49e7-b97a-5baa0fa03418",
   "metadata": {},
   "outputs": [
    {
     "data": {
      "text/plain": [
       "['oh god', [2, 5, 6, 4], True, 'foo']"
      ]
     },
     "execution_count": 63,
     "metadata": {},
     "output_type": "execute_result"
    }
   ],
   "source": [
    "L2"
   ]
  },
  {
   "cell_type": "code",
   "execution_count": 66,
   "id": "8bae2a25-83a1-4de2-b34e-d883afea7143",
   "metadata": {},
   "outputs": [
    {
     "data": {
      "text/plain": [
       "[2, 5, 6, 4]"
      ]
     },
     "execution_count": 66,
     "metadata": {},
     "output_type": "execute_result"
    }
   ],
   "source": [
    "## pop uses index but by default takes -1 as index\n",
    "L2.pop(0)"
   ]
  },
  {
   "cell_type": "code",
   "execution_count": 65,
   "id": "c5476a93-3ee5-4129-971a-e049dba803cc",
   "metadata": {},
   "outputs": [
    {
     "data": {
      "text/plain": [
       "[[2, 5, 6, 4], True, 'foo']"
      ]
     },
     "execution_count": 65,
     "metadata": {},
     "output_type": "execute_result"
    }
   ],
   "source": [
    "L2"
   ]
  },
  {
   "cell_type": "code",
   "execution_count": 78,
   "id": "2804829d-df07-495f-8c45-65c5cdf46aec",
   "metadata": {},
   "outputs": [
    {
     "data": {
      "text/plain": [
       "[]"
      ]
     },
     "execution_count": 78,
     "metadata": {},
     "output_type": "execute_result"
    }
   ],
   "source": [
    "L2"
   ]
  },
  {
   "cell_type": "code",
   "execution_count": 76,
   "id": "f8d4f88e-2786-4df9-9f43-623a671d4fc5",
   "metadata": {},
   "outputs": [],
   "source": [
    "L3=[1,2,3,\n",
    "  4,5,6]"
   ]
  },
  {
   "cell_type": "code",
   "execution_count": 77,
   "id": "810dc4f4-50e1-4d08-8ef6-5c8e63c45c92",
   "metadata": {},
   "outputs": [
    {
     "data": {
      "text/plain": [
       "[1, 2, 3, 4, 5, 6]"
      ]
     },
     "execution_count": 77,
     "metadata": {},
     "output_type": "execute_result"
    }
   ],
   "source": [
    "L3"
   ]
  },
  {
   "cell_type": "code",
   "execution_count": 79,
   "id": "26d545fb-0ee7-4a63-89fa-a06f6cf95a64",
   "metadata": {},
   "outputs": [],
   "source": [
    "## Remove first occurrence of value in the list \n",
    "L3.remove(3)"
   ]
  },
  {
   "cell_type": "code",
   "execution_count": 80,
   "id": "fdd047f0-e919-43d9-b59a-6dabd5dfe5df",
   "metadata": {},
   "outputs": [
    {
     "data": {
      "text/plain": [
       "[1, 2, 4, 5, 6]"
      ]
     },
     "execution_count": 80,
     "metadata": {},
     "output_type": "execute_result"
    }
   ],
   "source": [
    "L3"
   ]
  },
  {
   "cell_type": "code",
   "execution_count": 3,
   "id": "dc475dcd-1789-40f9-8a16-17f3cb9a1f73",
   "metadata": {},
   "outputs": [],
   "source": [
    "L4 = [1,2,5,[2,3,4,5],'panda']"
   ]
  },
  {
   "cell_type": "code",
   "execution_count": 4,
   "id": "725efca2-9996-4b93-b14b-0f2d1ccb8d7e",
   "metadata": {},
   "outputs": [
    {
     "data": {
      "text/plain": [
       "[1, 2, 5, [2, 3, 4, 5], 'panda']"
      ]
     },
     "execution_count": 4,
     "metadata": {},
     "output_type": "execute_result"
    }
   ],
   "source": [
    "L4"
   ]
  },
  {
   "cell_type": "code",
   "execution_count": 6,
   "id": "211856ad-4fc5-44eb-a8ba-1f1a18c8129f",
   "metadata": {},
   "outputs": [],
   "source": [
    "L4[3].remove(5)"
   ]
  },
  {
   "cell_type": "code",
   "execution_count": 7,
   "id": "60823088-ddc7-4f61-accd-6f9198b773bb",
   "metadata": {},
   "outputs": [
    {
     "data": {
      "text/plain": [
       "[1, 2, 5, [2, 3, 4], 'panda']"
      ]
     },
     "execution_count": 7,
     "metadata": {},
     "output_type": "execute_result"
    }
   ],
   "source": [
    "L4"
   ]
  },
  {
   "cell_type": "code",
   "execution_count": 8,
   "id": "c76693c6-d350-42d1-bc37-087291ded3f6",
   "metadata": {},
   "outputs": [],
   "source": [
    "L4.reverse()"
   ]
  },
  {
   "cell_type": "code",
   "execution_count": 9,
   "id": "0c31ea9a-28ec-48d6-9a7c-271ba09c6ade",
   "metadata": {},
   "outputs": [
    {
     "data": {
      "text/plain": [
       "['panda', [2, 3, 4], 5, 2, 1]"
      ]
     },
     "execution_count": 9,
     "metadata": {},
     "output_type": "execute_result"
    }
   ],
   "source": [
    "L4"
   ]
  },
  {
   "cell_type": "code",
   "execution_count": 10,
   "id": "779cdd2f-bc88-491f-9c8b-375e9b112a36",
   "metadata": {},
   "outputs": [],
   "source": [
    "L4 = L4[::-1]"
   ]
  },
  {
   "cell_type": "code",
   "execution_count": 11,
   "id": "a47aad6c-4850-4823-9fb1-e28f2a1abd62",
   "metadata": {},
   "outputs": [
    {
     "data": {
      "text/plain": [
       "[1, 2, 5, [2, 3, 4], 'panda']"
      ]
     },
     "execution_count": 11,
     "metadata": {},
     "output_type": "execute_result"
    }
   ],
   "source": [
    "L4"
   ]
  },
  {
   "cell_type": "code",
   "execution_count": 13,
   "id": "9cbd92a7-6737-4b3d-bc8b-cc23e837ef59",
   "metadata": {},
   "outputs": [],
   "source": [
    "L5 = [45,282,68,6,64,85]"
   ]
  },
  {
   "cell_type": "code",
   "execution_count": 14,
   "id": "2886a0b0-1a9e-494a-beea-6ec914070e97",
   "metadata": {},
   "outputs": [],
   "source": [
    "L5.sort()"
   ]
  },
  {
   "cell_type": "code",
   "execution_count": 15,
   "id": "41c60a3f-56f9-4288-96f4-46db06ba7f1a",
   "metadata": {},
   "outputs": [
    {
     "data": {
      "text/plain": [
       "[6, 45, 64, 68, 85, 282]"
      ]
     },
     "execution_count": 15,
     "metadata": {},
     "output_type": "execute_result"
    }
   ],
   "source": [
    "L5"
   ]
  },
  {
   "cell_type": "code",
   "execution_count": 16,
   "id": "e6278794-a34b-473b-a850-0430eece4f5b",
   "metadata": {},
   "outputs": [],
   "source": [
    "L6 = [\"pandas\",\"alfa\",\"gammma\",\"beta\"]"
   ]
  },
  {
   "cell_type": "code",
   "execution_count": 17,
   "id": "340efb9c-660e-4500-b14f-ecb24fbc4e9c",
   "metadata": {},
   "outputs": [],
   "source": [
    "L6.sort()"
   ]
  },
  {
   "cell_type": "code",
   "execution_count": 18,
   "id": "a014c12d-5d44-444b-846c-69254188621d",
   "metadata": {},
   "outputs": [
    {
     "data": {
      "text/plain": [
       "['alfa', 'beta', 'gammma', 'pandas']"
      ]
     },
     "execution_count": 18,
     "metadata": {},
     "output_type": "execute_result"
    }
   ],
   "source": [
    "L6"
   ]
  },
  {
   "cell_type": "code",
   "execution_count": 20,
   "id": "5d4a2a17-5268-498a-aeb6-163d3a4ae7c0",
   "metadata": {},
   "outputs": [],
   "source": [
    "L6.sort(reverse = True)"
   ]
  },
  {
   "cell_type": "code",
   "execution_count": 21,
   "id": "dd35add8-4977-419c-a86d-0276d52dfde4",
   "metadata": {},
   "outputs": [
    {
     "data": {
      "text/plain": [
       "['pandas', 'gammma', 'beta', 'alfa']"
      ]
     },
     "execution_count": 21,
     "metadata": {},
     "output_type": "execute_result"
    }
   ],
   "source": [
    "L6"
   ]
  },
  {
   "cell_type": "code",
   "execution_count": 22,
   "id": "567caa93-d7e0-4730-b694-aa2294cf2ed6",
   "metadata": {},
   "outputs": [
    {
     "data": {
      "text/plain": [
       "0"
      ]
     },
     "execution_count": 22,
     "metadata": {},
     "output_type": "execute_result"
    }
   ],
   "source": [
    "L5.index(6)"
   ]
  },
  {
   "cell_type": "code",
   "execution_count": 24,
   "id": "ff611f00-41d3-4318-b3f9-c813829feda8",
   "metadata": {},
   "outputs": [
    {
     "data": {
      "text/plain": [
       "1"
      ]
     },
     "execution_count": 24,
     "metadata": {},
     "output_type": "execute_result"
    }
   ],
   "source": [
    "L6.count(\"pandas\")"
   ]
  },
  {
   "cell_type": "code",
   "execution_count": 33,
   "id": "9d620bfc-1a58-4b81-bb3b-e001e7776683",
   "metadata": {},
   "outputs": [
    {
     "data": {
      "text/plain": [
       "[6, 100, 64, 68, 85, 282]"
      ]
     },
     "execution_count": 33,
     "metadata": {},
     "output_type": "execute_result"
    }
   ],
   "source": [
    "L5"
   ]
  },
  {
   "cell_type": "code",
   "execution_count": 27,
   "id": "ec263b50-83f6-4385-909b-208e4e9289e2",
   "metadata": {},
   "outputs": [],
   "source": [
    "w = \"wow\""
   ]
  },
  {
   "cell_type": "code",
   "execution_count": 28,
   "id": "c095c1d0-29be-4418-86c1-1f2bf1141fe9",
   "metadata": {},
   "outputs": [
    {
     "data": {
      "text/plain": [
       "'o'"
      ]
     },
     "execution_count": 28,
     "metadata": {},
     "output_type": "execute_result"
    }
   ],
   "source": [
    "w[1]"
   ]
  },
  {
   "cell_type": "code",
   "execution_count": 29,
   "id": "0c3fc5d7-e880-496e-9bdd-c3be76acde69",
   "metadata": {},
   "outputs": [],
   "source": [
    "L5[1] = 100"
   ]
  },
  {
   "cell_type": "code",
   "execution_count": 32,
   "id": "d3f5bf43-3298-4ff5-99c4-45be11c295c3",
   "metadata": {},
   "outputs": [
    {
     "data": {
      "text/plain": [
       "[6, 100, 64, 68, 85, 282]"
      ]
     },
     "execution_count": 32,
     "metadata": {},
     "output_type": "execute_result"
    }
   ],
   "source": [
    "L5"
   ]
  },
  {
   "cell_type": "code",
   "execution_count": 34,
   "id": "0b6aa4cb-cf2d-4cfd-8284-ff0540057997",
   "metadata": {},
   "outputs": [
    {
     "data": {
      "text/plain": [
       "'wow'"
      ]
     },
     "execution_count": 34,
     "metadata": {},
     "output_type": "execute_result"
    }
   ],
   "source": [
    "w "
   ]
  },
  {
   "cell_type": "code",
   "execution_count": 35,
   "id": "a33a46b5-d27b-491c-a317-7cb20f402cb7",
   "metadata": {},
   "outputs": [
    {
     "data": {
      "text/plain": [
       "'LoL'"
      ]
     },
     "execution_count": 35,
     "metadata": {},
     "output_type": "execute_result"
    }
   ],
   "source": [
    "w.replace(\"w\" , \"L\")"
   ]
  },
  {
   "cell_type": "code",
   "execution_count": 35,
   "id": "f424d49e-4ef6-4322-9bd0-90a6dd91b4c2",
   "metadata": {},
   "outputs": [
    {
     "data": {
      "text/plain": [
       "'LoL'"
      ]
     },
     "execution_count": 35,
     "metadata": {},
     "output_type": "execute_result"
    }
   ],
   "source": [
    "w.replace(\"w\" , \"L\")"
   ]
  },
  {
   "cell_type": "code",
   "execution_count": 36,
   "id": "47dde221-2ff6-4f32-a2c8-6a6c22904921",
   "metadata": {},
   "outputs": [
    {
     "data": {
      "text/plain": [
       "'wow'"
      ]
     },
     "execution_count": 36,
     "metadata": {},
     "output_type": "execute_result"
    }
   ],
   "source": [
    "w"
   ]
  },
  {
   "cell_type": "code",
   "execution_count": 37,
   "id": "a1a32cb6-6b88-4d14-961a-0622a5e8684b",
   "metadata": {},
   "outputs": [],
   "source": [
    "w = w.replace(\"o\",\"e\")"
   ]
  },
  {
   "cell_type": "code",
   "execution_count": 38,
   "id": "fa47282f-a22c-43ce-ac6f-05e5d8d321ed",
   "metadata": {},
   "outputs": [
    {
     "data": {
      "text/plain": [
       "'wew'"
      ]
     },
     "execution_count": 38,
     "metadata": {},
     "output_type": "execute_result"
    }
   ],
   "source": [
    "w"
   ]
  },
  {
   "cell_type": "code",
   "execution_count": 40,
   "id": "80ce9878-dba5-4b62-b92a-25e2169d4bb4",
   "metadata": {},
   "outputs": [],
   "source": [
    "t1 = (1,5,6,\"good\", True , 45.64 ,45+9j, [1,2,3,4])"
   ]
  },
  {
   "cell_type": "code",
   "execution_count": 41,
   "id": "b1fb8699-c965-4a00-8d6d-8ff7ec953e79",
   "metadata": {},
   "outputs": [
    {
     "data": {
      "text/plain": [
       "(1, 5, 6, 'good', True, 45.64, (45+9j), [1, 2, 3, 4])"
      ]
     },
     "execution_count": 41,
     "metadata": {},
     "output_type": "execute_result"
    }
   ],
   "source": [
    "t1"
   ]
  },
  {
   "cell_type": "code",
   "execution_count": 42,
   "id": "09f95453-412e-4f56-9033-65ed9c818041",
   "metadata": {},
   "outputs": [
    {
     "data": {
      "text/plain": [
       "tuple"
      ]
     },
     "execution_count": 42,
     "metadata": {},
     "output_type": "execute_result"
    }
   ],
   "source": [
    "type(t1)"
   ]
  },
  {
   "cell_type": "code",
   "execution_count": 43,
   "id": "ad241779-1bd6-4849-ac63-43d056f52078",
   "metadata": {},
   "outputs": [
    {
     "data": {
      "text/plain": [
       "4"
      ]
     },
     "execution_count": 43,
     "metadata": {},
     "output_type": "execute_result"
    }
   ],
   "source": [
    "len(L6)"
   ]
  },
  {
   "cell_type": "code",
   "execution_count": 44,
   "id": "c0151cd4-9fa3-496c-93ec-fc54c81fbac4",
   "metadata": {},
   "outputs": [
    {
     "data": {
      "text/plain": [
       "8"
      ]
     },
     "execution_count": 44,
     "metadata": {},
     "output_type": "execute_result"
    }
   ],
   "source": [
    "len(t1)"
   ]
  },
  {
   "cell_type": "code",
   "execution_count": 45,
   "id": "bfa1bab8-a944-4493-875d-5f7f728d8032",
   "metadata": {},
   "outputs": [
    {
     "data": {
      "text/plain": [
       "6"
      ]
     },
     "execution_count": 45,
     "metadata": {},
     "output_type": "execute_result"
    }
   ],
   "source": [
    "t1[2]"
   ]
  },
  {
   "cell_type": "code",
   "execution_count": 46,
   "id": "e22f9ed6-7769-4607-8506-a1abdd3bdf8d",
   "metadata": {},
   "outputs": [
    {
     "data": {
      "text/plain": [
       "([1, 2, 3, 4], (45+9j), 45.64, True, 'good', 6, 5, 1)"
      ]
     },
     "execution_count": 46,
     "metadata": {},
     "output_type": "execute_result"
    }
   ],
   "source": [
    "t1[::-1]"
   ]
  },
  {
   "cell_type": "code",
   "execution_count": 48,
   "id": "1ce7ce45-f207-442d-a112-b141ec4a5506",
   "metadata": {},
   "outputs": [
    {
     "data": {
      "text/plain": [
       "[1, 2, 3, 4]"
      ]
     },
     "execution_count": 48,
     "metadata": {},
     "output_type": "execute_result"
    }
   ],
   "source": [
    "t1[-1]"
   ]
  },
  {
   "cell_type": "code",
   "execution_count": 49,
   "id": "c4fac8bc-4d0a-48b0-9007-12e5d55f70ff",
   "metadata": {},
   "outputs": [],
   "source": [
    "L5[1] = \"java\""
   ]
  },
  {
   "cell_type": "code",
   "execution_count": 50,
   "id": "347d1710-590f-4a36-9374-8e0a3eee6c38",
   "metadata": {},
   "outputs": [
    {
     "data": {
      "text/plain": [
       "[6, 'java', 64, 68, 85, 282]"
      ]
     },
     "execution_count": 50,
     "metadata": {},
     "output_type": "execute_result"
    }
   ],
   "source": [
    "L5"
   ]
  },
  {
   "cell_type": "code",
   "execution_count": 53,
   "id": "e23c0dcc-7570-4054-a9d8-4ba0bfb01142",
   "metadata": {},
   "outputs": [
    {
     "data": {
      "text/plain": [
       "(1, 5, 6, 'good', True, 45.64, (45+9j), [1, 2, 3, 4])"
      ]
     },
     "execution_count": 53,
     "metadata": {},
     "output_type": "execute_result"
    }
   ],
   "source": [
    "t1"
   ]
  },
  {
   "cell_type": "code",
   "execution_count": 54,
   "id": "85b8b2bc-4e26-4213-a6f5-734c11924053",
   "metadata": {},
   "outputs": [],
   "source": [
    "t1 = t1[::-1]"
   ]
  },
  {
   "cell_type": "code",
   "execution_count": 55,
   "id": "76af4b02-15dc-45cd-821d-19df2abaaed6",
   "metadata": {},
   "outputs": [
    {
     "data": {
      "text/plain": [
       "([1, 2, 3, 4], (45+9j), 45.64, True, 'good', 6, 5, 1)"
      ]
     },
     "execution_count": 55,
     "metadata": {},
     "output_type": "execute_result"
    }
   ],
   "source": [
    "t1"
   ]
  },
  {
   "cell_type": "code",
   "execution_count": 56,
   "id": "76c4ecf6-5704-4741-a6f7-09f45ba24a39",
   "metadata": {},
   "outputs": [],
   "source": [
    "s1={}"
   ]
  },
  {
   "cell_type": "code",
   "execution_count": 57,
   "id": "531da7ce-5696-4887-9de2-3e6c8e7c9656",
   "metadata": {},
   "outputs": [
    {
     "data": {
      "text/plain": [
       "dict"
      ]
     },
     "execution_count": 57,
     "metadata": {},
     "output_type": "execute_result"
    }
   ],
   "source": [
    "type(s1)"
   ]
  },
  {
   "cell_type": "code",
   "execution_count": 58,
   "id": "211e8b79-6c48-4a30-a262-2000d5ccc918",
   "metadata": {},
   "outputs": [],
   "source": [
    "s2={1,2,3,4,5,6}"
   ]
  },
  {
   "cell_type": "code",
   "execution_count": 59,
   "id": "0a2cc81a-9354-45c8-80dc-bfcedfc47b52",
   "metadata": {},
   "outputs": [
    {
     "data": {
      "text/plain": [
       "set"
      ]
     },
     "execution_count": 59,
     "metadata": {},
     "output_type": "execute_result"
    }
   ],
   "source": [
    "type(s2)"
   ]
  },
  {
   "cell_type": "code",
   "execution_count": 60,
   "id": "6e5c9663-3e1f-40ee-9d3b-e88f4ed17810",
   "metadata": {},
   "outputs": [],
   "source": [
    "s3 = {1,2,5611,4,6+5j,\"desk\"}"
   ]
  },
  {
   "cell_type": "code",
   "execution_count": 61,
   "id": "7a417fe7-702e-468d-b5b0-70712f921f5b",
   "metadata": {},
   "outputs": [],
   "source": [
    "s4 = {(1,2,3,5),4,68,68}"
   ]
  },
  {
   "cell_type": "code",
   "execution_count": 62,
   "id": "27e5c10d-3ecc-48b1-b0dc-2927b0c07771",
   "metadata": {},
   "outputs": [],
   "source": [
    "s5 ={1,2,3,1,2,3,2,3,1,3,1,2,4968}"
   ]
  },
  {
   "cell_type": "code",
   "execution_count": 63,
   "id": "51b27836-b178-4540-b3d2-e957bc5ec085",
   "metadata": {},
   "outputs": [
    {
     "data": {
      "text/plain": [
       "{1, 2, 3, 4968}"
      ]
     },
     "execution_count": 63,
     "metadata": {},
     "output_type": "execute_result"
    }
   ],
   "source": [
    "s5"
   ]
  },
  {
   "cell_type": "code",
   "execution_count": 64,
   "id": "2026eee5-d1d7-49b0-86b5-d265a05b1025",
   "metadata": {},
   "outputs": [],
   "source": [
    "L7 = [1,2,3,1,2,3,2,3,1,3,1,2,4968]"
   ]
  },
  {
   "cell_type": "code",
   "execution_count": 65,
   "id": "3aaf318d-bcb5-44ad-986c-2f7c178d3cf5",
   "metadata": {},
   "outputs": [
    {
     "data": {
      "text/plain": [
       "{1, 2, 3, 4968}"
      ]
     },
     "execution_count": 65,
     "metadata": {},
     "output_type": "execute_result"
    }
   ],
   "source": [
    "set(L7)"
   ]
  },
  {
   "cell_type": "code",
   "execution_count": 66,
   "id": "3ee0d4cd-7a4e-48b0-92a7-c40ac146fe0d",
   "metadata": {},
   "outputs": [],
   "source": [
    "L7 =set(L7)"
   ]
  },
  {
   "cell_type": "code",
   "execution_count": 67,
   "id": "e445e58b-2c93-4aa5-a7ed-71a6b74d5a42",
   "metadata": {},
   "outputs": [
    {
     "data": {
      "text/plain": [
       "{1, 2, 3, 4968}"
      ]
     },
     "execution_count": 67,
     "metadata": {},
     "output_type": "execute_result"
    }
   ],
   "source": [
    "L7"
   ]
  },
  {
   "cell_type": "code",
   "execution_count": 68,
   "id": "8a28f3d3-6e3e-4b46-84ec-515c3135a86b",
   "metadata": {},
   "outputs": [],
   "source": [
    "L7 =list(set(L7))"
   ]
  },
  {
   "cell_type": "code",
   "execution_count": 69,
   "id": "f7987265-f309-4c3a-9c42-bdbde0c7785b",
   "metadata": {},
   "outputs": [
    {
     "data": {
      "text/plain": [
       "[4968, 1, 2, 3]"
      ]
     },
     "execution_count": 69,
     "metadata": {},
     "output_type": "execute_result"
    }
   ],
   "source": [
    "L7"
   ]
  },
  {
   "cell_type": "code",
   "execution_count": 70,
   "id": "425b94d7-dca9-44d8-847d-8fc11b2c6b53",
   "metadata": {},
   "outputs": [],
   "source": [
    "s5.add(100)"
   ]
  },
  {
   "cell_type": "code",
   "execution_count": 71,
   "id": "9e8a1fd8-52eb-4d6b-bd95-218697abd832",
   "metadata": {},
   "outputs": [
    {
     "data": {
      "text/plain": [
       "{1, 2, 3, 100, 4968}"
      ]
     },
     "execution_count": 71,
     "metadata": {},
     "output_type": "execute_result"
    }
   ],
   "source": [
    "s5"
   ]
  },
  {
   "cell_type": "code",
   "execution_count": 72,
   "id": "56c495f1-3627-44cd-81cf-40e718cb25a7",
   "metadata": {},
   "outputs": [],
   "source": [
    "s5.remove(2)"
   ]
  },
  {
   "cell_type": "code",
   "execution_count": 73,
   "id": "9dc9b4c1-5304-4464-94ee-315a1ae3f9e9",
   "metadata": {},
   "outputs": [
    {
     "data": {
      "text/plain": [
       "{1, 3, 100, 4968}"
      ]
     },
     "execution_count": 73,
     "metadata": {},
     "output_type": "execute_result"
    }
   ],
   "source": [
    "s5"
   ]
  },
  {
   "cell_type": "code",
   "execution_count": 78,
   "id": "9dd03204-e557-4c37-a69e-4c13e863e7cf",
   "metadata": {},
   "outputs": [],
   "source": [
    "d={}"
   ]
  },
  {
   "cell_type": "code",
   "execution_count": 79,
   "id": "afce1c2f-61bf-412c-a0e0-d8e3cd1ecf29",
   "metadata": {},
   "outputs": [
    {
     "data": {
      "text/plain": [
       "dict"
      ]
     },
     "execution_count": 79,
     "metadata": {},
     "output_type": "execute_result"
    }
   ],
   "source": [
    "type(d)"
   ]
  },
  {
   "cell_type": "code",
   "execution_count": 82,
   "id": "da419896-e8cb-40d3-ad05-14b889ee6e8c",
   "metadata": {},
   "outputs": [],
   "source": [
    "d1 ={'key':\"legend\"}"
   ]
  },
  {
   "cell_type": "code",
   "execution_count": 83,
   "id": "c5a966bc-40e5-4082-a3c3-2b68a80972fd",
   "metadata": {},
   "outputs": [
    {
     "data": {
      "text/plain": [
       "{'key': 'legend'}"
      ]
     },
     "execution_count": 83,
     "metadata": {},
     "output_type": "execute_result"
    }
   ],
   "source": [
    "d1"
   ]
  },
  {
   "cell_type": "code",
   "execution_count": 84,
   "id": "58d68e07-c09d-4535-a8d5-affedb6bda87",
   "metadata": {},
   "outputs": [],
   "source": [
    "d2 ={'phno':9929358681,'name':\"devansh\",'title':\"legend\"}"
   ]
  },
  {
   "cell_type": "code",
   "execution_count": 85,
   "id": "7e1908f2-e116-4a52-8b96-5a8926e71e4a",
   "metadata": {},
   "outputs": [
    {
     "data": {
      "text/plain": [
       "{'phno': 9929358681, 'name': 'devansh', 'title': 'legend'}"
      ]
     },
     "execution_count": 85,
     "metadata": {},
     "output_type": "execute_result"
    }
   ],
   "source": [
    "d2"
   ]
  },
  {
   "cell_type": "code",
   "execution_count": 88,
   "id": "d8a03f45-ade8-4e75-acb1-6bb7b383610a",
   "metadata": {},
   "outputs": [],
   "source": [
    "d3={123:\"power\",True :\"dev\"}"
   ]
  },
  {
   "cell_type": "code",
   "execution_count": 89,
   "id": "883c43bc-7612-4d5e-887a-627c021c60aa",
   "metadata": {},
   "outputs": [
    {
     "data": {
      "text/plain": [
       "{123: 'power', True: 'dev'}"
      ]
     },
     "execution_count": 89,
     "metadata": {},
     "output_type": "execute_result"
    }
   ],
   "source": [
    "d3"
   ]
  },
  {
   "cell_type": "code",
   "execution_count": 91,
   "id": "2bfa28d9-3ceb-473e-82e7-ccbb1288a547",
   "metadata": {},
   "outputs": [
    {
     "data": {
      "text/plain": [
       "'power'"
      ]
     },
     "execution_count": 91,
     "metadata": {},
     "output_type": "execute_result"
    }
   ],
   "source": [
    "d3[123]"
   ]
  },
  {
   "cell_type": "code",
   "execution_count": 93,
   "id": "06614da3-2ec8-432d-9bea-3ce2c1d2e6a5",
   "metadata": {},
   "outputs": [
    {
     "data": {
      "text/plain": [
       "'dev'"
      ]
     },
     "execution_count": 93,
     "metadata": {},
     "output_type": "execute_result"
    }
   ],
   "source": [
    "d3[True]"
   ]
  },
  {
   "cell_type": "code",
   "execution_count": 94,
   "id": "e4697dd8-527f-4714-a851-637b3a679289",
   "metadata": {},
   "outputs": [
    {
     "data": {
      "text/plain": [
       "'dev'"
      ]
     },
     "execution_count": 94,
     "metadata": {},
     "output_type": "execute_result"
    }
   ],
   "source": [
    "d3[1]"
   ]
  },
  {
   "cell_type": "code",
   "execution_count": 97,
   "id": "acc02dd7-b904-4495-9a29-43d41ac8f8c6",
   "metadata": {},
   "outputs": [],
   "source": [
    "d4 ={'name':\"devansh\",'mail':\"bilwal.devansh101\",\"name\":\"legend\"}"
   ]
  },
  {
   "cell_type": "code",
   "execution_count": 98,
   "id": "fa61ce1e-f166-4240-9a17-c16422e755d9",
   "metadata": {},
   "outputs": [
    {
     "data": {
      "text/plain": [
       "'legend'"
      ]
     },
     "execution_count": 98,
     "metadata": {},
     "output_type": "execute_result"
    }
   ],
   "source": [
    "d4['name']"
   ]
  },
  {
   "cell_type": "code",
   "execution_count": 100,
   "id": "1cba329d-90f7-4861-a533-fa96a4dc49b2",
   "metadata": {},
   "outputs": [],
   "source": [
    "d5={'company':\"pwskills\",'course':[\"DSA\",\"DS\",\"BLOCKCHAIN\"]}"
   ]
  },
  {
   "cell_type": "code",
   "execution_count": 101,
   "id": "16474732-976c-47f1-bc63-896a8cda842b",
   "metadata": {},
   "outputs": [
    {
     "data": {
      "text/plain": [
       "{'company': 'pwskills', 'course': ['DSA', 'DS', 'BLOCKCHAIN']}"
      ]
     },
     "execution_count": 101,
     "metadata": {},
     "output_type": "execute_result"
    }
   ],
   "source": [
    "d5"
   ]
  },
  {
   "cell_type": "code",
   "execution_count": 102,
   "id": "b2714233-f5e7-4334-8fd5-2435158121b2",
   "metadata": {},
   "outputs": [
    {
     "data": {
      "text/plain": [
       "['DSA', 'DS', 'BLOCKCHAIN']"
      ]
     },
     "execution_count": 102,
     "metadata": {},
     "output_type": "execute_result"
    }
   ],
   "source": [
    "d5[\"course\"]"
   ]
  },
  {
   "cell_type": "code",
   "execution_count": 104,
   "id": "40743993-943d-498a-9649-201e18601324",
   "metadata": {},
   "outputs": [
    {
     "data": {
      "text/plain": [
       "'DSA'"
      ]
     },
     "execution_count": 104,
     "metadata": {},
     "output_type": "execute_result"
    }
   ],
   "source": [
    "d5[\"course\"][0]"
   ]
  },
  {
   "cell_type": "code",
   "execution_count": 106,
   "id": "28fb29c6-fb86-4835-8af3-9be10b12249a",
   "metadata": {},
   "outputs": [],
   "source": [
    "d6 ={\"number\":121315 , \"assignment\":(1,2,3,4,3) , \"launchdate\": { 12,13,14,28}}"
   ]
  },
  {
   "cell_type": "code",
   "execution_count": 107,
   "id": "befedf80-939e-432b-890b-df5ef88de12b",
   "metadata": {},
   "outputs": [
    {
     "data": {
      "text/plain": [
       "{'number': 121315,\n",
       " 'assignment': (1, 2, 3, 4, 3),\n",
       " 'launchdate': {12, 13, 14, 28}}"
      ]
     },
     "execution_count": 107,
     "metadata": {},
     "output_type": "execute_result"
    }
   ],
   "source": [
    "d6"
   ]
  },
  {
   "cell_type": "code",
   "execution_count": 108,
   "id": "591f2700-9ed5-40dc-9270-10fc53545115",
   "metadata": {},
   "outputs": [],
   "source": [
    "d6 = d6 ={\"number\":121315 , \"assignment\":(1,2,3,4,3) , \"launchdate\": { 12,13,14,28}, \"verify\":{\"step1\": \"signin\",\"check\":\"account\",\"allow\":\"approve\"}}"
   ]
  },
  {
   "cell_type": "code",
   "execution_count": 109,
   "id": "6ca76111-0a7a-400b-a1dd-31ede83bcbd1",
   "metadata": {},
   "outputs": [
    {
     "data": {
      "text/plain": [
       "{'number': 121315,\n",
       " 'assignment': (1, 2, 3, 4, 3),\n",
       " 'launchdate': {12, 13, 14, 28},\n",
       " 'verify': {'step1': 'signin', 'check': 'account', 'allow': 'approve'}}"
      ]
     },
     "execution_count": 109,
     "metadata": {},
     "output_type": "execute_result"
    }
   ],
   "source": [
    "d6"
   ]
  },
  {
   "cell_type": "code",
   "execution_count": 110,
   "id": "925d136c-d313-443a-bab1-0ac8bb7dd889",
   "metadata": {},
   "outputs": [
    {
     "data": {
      "text/plain": [
       "'account'"
      ]
     },
     "execution_count": 110,
     "metadata": {},
     "output_type": "execute_result"
    }
   ],
   "source": [
    "d6[\"verify\"][\"check\"]"
   ]
  },
  {
   "cell_type": "code",
   "execution_count": 111,
   "id": "01fa291c-afe0-436c-8e51-45566447896a",
   "metadata": {},
   "outputs": [],
   "source": [
    "d6[\"owner\"] = [\"devansh\",\"robin\",\"catwomen\"]"
   ]
  },
  {
   "cell_type": "code",
   "execution_count": 112,
   "id": "a11ba751-3d25-436c-a9c0-25cf128a6067",
   "metadata": {},
   "outputs": [
    {
     "data": {
      "text/plain": [
       "{'number': 121315,\n",
       " 'assignment': (1, 2, 3, 4, 3),\n",
       " 'launchdate': {12, 13, 14, 28},\n",
       " 'verify': {'step1': 'signin', 'check': 'account', 'allow': 'approve'},\n",
       " 'owner': ['devansh', 'robin', 'catwomen']}"
      ]
     },
     "execution_count": 112,
     "metadata": {},
     "output_type": "execute_result"
    }
   ],
   "source": [
    "d6"
   ]
  },
  {
   "cell_type": "code",
   "execution_count": 113,
   "id": "40fe6370-0054-4a7f-86b3-ace41357107b",
   "metadata": {},
   "outputs": [],
   "source": [
    "d6[\"number\"] = [\"devansh\",\"robin\",\"catwomen\"]"
   ]
  },
  {
   "cell_type": "code",
   "execution_count": 114,
   "id": "07f790a4-b777-4b7d-9bb5-c91225e603d2",
   "metadata": {},
   "outputs": [
    {
     "data": {
      "text/plain": [
       "{'number': ['devansh', 'robin', 'catwomen'],\n",
       " 'assignment': (1, 2, 3, 4, 3),\n",
       " 'launchdate': {12, 13, 14, 28},\n",
       " 'verify': {'step1': 'signin', 'check': 'account', 'allow': 'approve'},\n",
       " 'owner': ['devansh', 'robin', 'catwomen']}"
      ]
     },
     "execution_count": 114,
     "metadata": {},
     "output_type": "execute_result"
    }
   ],
   "source": [
    "d6"
   ]
  },
  {
   "cell_type": "code",
   "execution_count": 116,
   "id": "20fd2a25-76de-4d5d-a928-7ec8a2331fa4",
   "metadata": {},
   "outputs": [],
   "source": [
    "del d6[\"number\"]"
   ]
  },
  {
   "cell_type": "code",
   "execution_count": 117,
   "id": "539aed50-3b89-4aff-aa61-0ade2990f545",
   "metadata": {},
   "outputs": [
    {
     "data": {
      "text/plain": [
       "{'assignment': (1, 2, 3, 4, 3),\n",
       " 'launchdate': {12, 13, 14, 28},\n",
       " 'verify': {'step1': 'signin', 'check': 'account', 'allow': 'approve'},\n",
       " 'owner': ['devansh', 'robin', 'catwomen']}"
      ]
     },
     "execution_count": 117,
     "metadata": {},
     "output_type": "execute_result"
    }
   ],
   "source": [
    "d6"
   ]
  },
  {
   "cell_type": "code",
   "execution_count": 118,
   "id": "5d8faca3-d6db-4621-ba20-16e4173e2bf3",
   "metadata": {},
   "outputs": [
    {
     "data": {
      "text/plain": [
       "dict_keys(['assignment', 'launchdate', 'verify', 'owner'])"
      ]
     },
     "execution_count": 118,
     "metadata": {},
     "output_type": "execute_result"
    }
   ],
   "source": [
    "d6.keys()"
   ]
  },
  {
   "cell_type": "code",
   "execution_count": 119,
   "id": "e0b1cce8-7931-4617-a16c-e32941fadca7",
   "metadata": {},
   "outputs": [],
   "source": [
    "L8=[d6.keys()]"
   ]
  },
  {
   "cell_type": "code",
   "execution_count": 120,
   "id": "d117749e-0363-4ade-8e41-32e35a467d01",
   "metadata": {},
   "outputs": [
    {
     "data": {
      "text/plain": [
       "[dict_keys(['assignment', 'launchdate', 'verify', 'owner'])]"
      ]
     },
     "execution_count": 120,
     "metadata": {},
     "output_type": "execute_result"
    }
   ],
   "source": [
    "L8"
   ]
  },
  {
   "cell_type": "code",
   "execution_count": 121,
   "id": "40a000f6-f508-46c0-830c-456d1cbddc5d",
   "metadata": {},
   "outputs": [
    {
     "data": {
      "text/plain": [
       "['assignment', 'launchdate', 'verify', 'owner']"
      ]
     },
     "execution_count": 121,
     "metadata": {},
     "output_type": "execute_result"
    }
   ],
   "source": [
    "list(d6.keys())"
   ]
  },
  {
   "cell_type": "code",
   "execution_count": 122,
   "id": "e508e27b-617b-4ff7-b615-f516429529d8",
   "metadata": {},
   "outputs": [
    {
     "data": {
      "text/plain": [
       "dict_values([(1, 2, 3, 4, 3), {13, 28, 12, 14}, {'step1': 'signin', 'check': 'account', 'allow': 'approve'}, ['devansh', 'robin', 'catwomen']])"
      ]
     },
     "execution_count": 122,
     "metadata": {},
     "output_type": "execute_result"
    }
   ],
   "source": [
    "d6.values()"
   ]
  },
  {
   "cell_type": "code",
   "execution_count": 125,
   "id": "8a3622ce-5173-41c1-a6b2-83fb35336451",
   "metadata": {},
   "outputs": [
    {
     "data": {
      "text/plain": [
       "((1, 2, 3, 4, 3),\n",
       " {12, 13, 14, 28},\n",
       " {'step1': 'signin', 'check': 'account', 'allow': 'approve'},\n",
       " ['devansh', 'robin', 'catwomen'])"
      ]
     },
     "execution_count": 125,
     "metadata": {},
     "output_type": "execute_result"
    }
   ],
   "source": [
    "tuple(d6.values())"
   ]
  },
  {
   "cell_type": "code",
   "execution_count": 126,
   "id": "84e31b7a-53cb-4bac-b33c-b4f9b642572e",
   "metadata": {},
   "outputs": [
    {
     "data": {
      "text/plain": [
       "dict_items([('assignment', (1, 2, 3, 4, 3)), ('launchdate', {13, 28, 12, 14}), ('verify', {'step1': 'signin', 'check': 'account', 'allow': 'approve'}), ('owner', ['devansh', 'robin', 'catwomen'])])"
      ]
     },
     "execution_count": 126,
     "metadata": {},
     "output_type": "execute_result"
    }
   ],
   "source": [
    "d6.items()"
   ]
  },
  {
   "cell_type": "code",
   "execution_count": 128,
   "id": "a3c8aac9-0343-41c5-8bc7-a1e1b3c40644",
   "metadata": {},
   "outputs": [
    {
     "data": {
      "text/plain": [
       "[('assignment', (1, 2, 3, 4, 3)),\n",
       " ('launchdate', {12, 13, 14, 28}),\n",
       " ('verify', {'step1': 'signin', 'check': 'account', 'allow': 'approve'}),\n",
       " ('owner', ['devansh', 'robin', 'catwomen'])]"
      ]
     },
     "execution_count": 128,
     "metadata": {},
     "output_type": "execute_result"
    }
   ],
   "source": [
    "list(d6.items())"
   ]
  },
  {
   "cell_type": "code",
   "execution_count": 129,
   "id": "36b15adf-6201-4faf-b999-0acbd1c701da",
   "metadata": {},
   "outputs": [
    {
     "data": {
      "text/plain": [
       "{'step1': 'signin', 'check': 'account', 'allow': 'approve'}"
      ]
     },
     "execution_count": 129,
     "metadata": {},
     "output_type": "execute_result"
    }
   ],
   "source": [
    "d6.pop(\"verify\")"
   ]
  },
  {
   "cell_type": "code",
   "execution_count": 130,
   "id": "02fff93b-3b0c-4b4b-90a1-48a28d10ae10",
   "metadata": {},
   "outputs": [
    {
     "data": {
      "text/plain": [
       "{'assignment': (1, 2, 3, 4, 3),\n",
       " 'launchdate': {12, 13, 14, 28},\n",
       " 'owner': ['devansh', 'robin', 'catwomen']}"
      ]
     },
     "execution_count": 130,
     "metadata": {},
     "output_type": "execute_result"
    }
   ],
   "source": [
    "d6"
   ]
  },
  {
   "cell_type": "code",
   "execution_count": 131,
   "id": "20697944-6a1e-4b21-a72b-8be30135072f",
   "metadata": {},
   "outputs": [],
   "source": [
    "d6.setdefault(\"meow\")"
   ]
  },
  {
   "cell_type": "code",
   "execution_count": 132,
   "id": "232dca31-fea6-4653-a494-406b425843d2",
   "metadata": {},
   "outputs": [
    {
     "data": {
      "text/plain": [
       "{'assignment': (1, 2, 3, 4, 3),\n",
       " 'launchdate': {12, 13, 14, 28},\n",
       " 'owner': ['devansh', 'robin', 'catwomen'],\n",
       " 'meow': None}"
      ]
     },
     "execution_count": 132,
     "metadata": {},
     "output_type": "execute_result"
    }
   ],
   "source": [
    "d6"
   ]
  },
  {
   "cell_type": "code",
   "execution_count": null,
   "id": "b80c6dd9-f731-48b8-a056-efc632b31655",
   "metadata": {},
   "outputs": [],
   "source": []
  }
 ],
 "metadata": {
  "kernelspec": {
   "display_name": "Python 3 (ipykernel)",
   "language": "python",
   "name": "python3"
  },
  "language_info": {
   "codemirror_mode": {
    "name": "ipython",
    "version": 3
   },
   "file_extension": ".py",
   "mimetype": "text/x-python",
   "name": "python",
   "nbconvert_exporter": "python",
   "pygments_lexer": "ipython3",
   "version": "3.10.8"
  }
 },
 "nbformat": 4,
 "nbformat_minor": 5
}
